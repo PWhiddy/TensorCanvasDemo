{
  "nbformat": 4,
  "nbformat_minor": 0,
  "metadata": {
    "colab": {
      "name": "TensorCanvasDemo.ipynb",
      "provenance": [],
      "collapsed_sections": [],
      "authorship_tag": "ABX9TyMprVnrsGc3lfR70lvtsYJL",
      "include_colab_link": true
    },
    "kernelspec": {
      "name": "python3",
      "display_name": "Python 3"
    }
  },
  "cells": [
    {
      "cell_type": "markdown",
      "metadata": {
        "id": "view-in-github",
        "colab_type": "text"
      },
      "source": [
        "<a href=\"https://colab.research.google.com/github/PWhiddy/TensorCanvasDemo/blob/master/TensorCanvasDemo.ipynb\" target=\"_parent\"><img src=\"https://colab.research.google.com/assets/colab-badge.svg\" alt=\"Open In Colab\"/></a>"
      ]
    },
    {
      "cell_type": "code",
      "metadata": {
        "id": "8IVpFP2IbmoC",
        "colab_type": "code",
        "colab": {
          "base_uri": "https://localhost:8080/",
          "height": 118
        },
        "outputId": "779c8a35-ebee-4e8f-9c09-4ac3f2494ca6"
      },
      "source": [
        "!pip install --upgrade tensor-canvas"
      ],
      "execution_count": null,
      "outputs": [
        {
          "output_type": "stream",
          "text": [
            "Requirement already up-to-date: tensor-canvas in /usr/local/lib/python3.6/dist-packages (0.1.6)\n",
            "Requirement already satisfied, skipping upgrade: torch in /usr/local/lib/python3.6/dist-packages (from tensor-canvas) (1.6.0+cu101)\n",
            "Requirement already satisfied, skipping upgrade: eagerpy in /usr/local/lib/python3.6/dist-packages (from tensor-canvas) (0.29.0)\n",
            "Requirement already satisfied, skipping upgrade: numpy in /usr/local/lib/python3.6/dist-packages (from torch->tensor-canvas) (1.18.5)\n",
            "Requirement already satisfied, skipping upgrade: future in /usr/local/lib/python3.6/dist-packages (from torch->tensor-canvas) (0.16.0)\n",
            "Requirement already satisfied, skipping upgrade: typing-extensions>=3.7.4.1 in /usr/local/lib/python3.6/dist-packages (from eagerpy->tensor-canvas) (3.7.4.3)\n"
          ],
          "name": "stdout"
        }
      ]
    },
    {
      "cell_type": "code",
      "metadata": {
        "id": "D9RfM6q3O7dP",
        "colab_type": "code",
        "colab": {}
      },
      "source": [
        "import tensorcanvas as tc\n",
        "import torch\n",
        "import tensorflow as tf\n",
        "import jax.numpy as jnp\n",
        "import numpy as np\n",
        "import matplotlib.pyplot as plt \n",
        "\n",
        "# define 3 cirlces with different positions, radii, and colors\n",
        "x1, y1, r1, c1 = 34.8,  5.3, 2.0, [0.3, 0.2, 1.0]\n",
        "x2, y2, r2, c2 = 14.8, 15.3, 5.0, [0.1, 0.9, 0.8]\n",
        "x3, y3, r3, c3 = 30.8, 20.3, 3.0, [0.0, 0.9, 0.0]\n",
        "\n",
        "# canvas dimensions\n",
        "height, width, channels = 32, 64, 3\n",
        "\n",
        "def show_t(t):\n",
        "  if type(t) == torch.Tensor:\n",
        "    t = t.permute(1,2,0)\n",
        "  plt.imshow(t)"
      ],
      "execution_count": null,
      "outputs": []
    },
    {
      "cell_type": "code",
      "metadata": {
        "id": "dOWJbttGOYdO",
        "colab_type": "code",
        "colab": {
          "base_uri": "https://localhost:8080/",
          "height": 217
        },
        "outputId": "ccc3c202-a44f-4b58-8a70-1b79c19451e8"
      },
      "source": [
        "\n",
        "# draw 3 colored circles on a pytorch image tensor\n",
        "pt_canvas = torch.zeros(channels, height, width)\n",
        "pt_canvas = tc.draw_circle(x1, y1, r1, torch.tensor(c1), pt_canvas)\n",
        "pt_canvas = tc.draw_circle(x2, y2, r2, torch.tensor(c2), pt_canvas)\n",
        "pt_canvas = tc.draw_circle(x3, y3, r3, torch.tensor(c3), pt_canvas)\n",
        "show_t(pt_canvas)"
      ],
      "execution_count": null,
      "outputs": [
        {
          "output_type": "display_data",
          "data": {
            "image/png": "[encoded data removed]",
            "text/plain": [
              "<Figure size 432x288 with 1 Axes>"
            ]
          },
          "metadata": {
            "tags": [],
            "needs_background": "light"
          }
        }
      ]
    },
    {
      "cell_type": "code",
      "metadata": {
        "id": "2ZdXcbCNPCV8",
        "colab_type": "code",
        "colab": {
          "base_uri": "https://localhost:8080/",
          "height": 217
        },
        "outputId": "2dae47a3-8a35-47c1-827c-9eaa6a464711"
      },
      "source": [
        "# draw 3 colored cirlces on a tensorflow image tensor\n",
        "tf_canvas = tf.zeros([height, width, channels])\n",
        "tf_canvas = tc.draw_circle(x1, y1, r1, tf.convert_to_tensor(c1), tf_canvas)\n",
        "tf_canvas = tc.draw_circle(x2, y2, r2, tf.convert_to_tensor(c2), tf_canvas)\n",
        "tf_canvas = tc.draw_circle(x3, y3, r3, tf.convert_to_tensor(c3), tf_canvas)\n",
        "show_t(tf_canvas)"
      ],
      "execution_count": null,
      "outputs": [
        {
          "output_type": "display_data",
          "data": {
            "image/png": "[encoded data removed]",
            "text/plain": [
              "<Figure size 432x288 with 1 Axes>"
            ]
          },
          "metadata": {
            "tags": [],
            "needs_background": "light"
          }
        }
      ]
    },
    {
      "cell_type": "code",
      "metadata": {
        "id": "6TmChx_8TX8O",
        "colab_type": "code",
        "colab": {
          "base_uri": "https://localhost:8080/",
          "height": 250
        },
        "outputId": "915488a3-3c7a-4a70-d522-6808a57cad54"
      },
      "source": [
        "# draw 3 colored cirlces on a jax image tensor\n",
        "jx_canvas = jnp.zeros([height, width, channels])\n",
        "jx_canvas = tc.draw_circle(x1, y1, r1, jnp.array(c1), jx_canvas)\n",
        "jx_canvas = tc.draw_circle(x2, y2, r2, jnp.array(c2), jx_canvas)\n",
        "jx_canvas = tc.draw_circle(x3, y3, r3, jnp.array(c3), jx_canvas)\n",
        "show_t(jx_canvas)"
      ],
      "execution_count": null,
      "outputs": [
        {
          "output_type": "stream",
          "text": [
            "/usr/local/lib/python3.6/dist-packages/jax/lib/xla_bridge.py:130: UserWarning: No GPU/TPU found, falling back to CPU.\n",
            "  warnings.warn('No GPU/TPU found, falling back to CPU.')\n"
          ],
          "name": "stderr"
        },
        {
          "output_type": "display_data",
          "data": {
            "image/png": "[encoded data removed]",
            "text/plain": [
              "<Figure size 432x288 with 1 Axes>"
            ]
          },
          "metadata": {
            "tags": [],
            "needs_background": "light"
          }
        }
      ]
    },
    {
      "cell_type": "code",
      "metadata": {
        "id": "MjL8d_WPTjm9",
        "colab_type": "code",
        "colab": {
          "base_uri": "https://localhost:8080/",
          "height": 217
        },
        "outputId": "83712e95-2c30-480e-adb8-8fed65b4f1d4"
      },
      "source": [
        "# draw 3 colored cirlces on a numpy image tensor\n",
        "np_canvas = np.zeros([height, width, channels])\n",
        "np_canvas = tc.draw_circle(x1, y1, r1, np.array(c1), np_canvas)\n",
        "np_canvas = tc.draw_circle(x2, y2, r2, np.array(c2), np_canvas)\n",
        "np_canvas = tc.draw_circle(x3, y3, r3, np.array(c3), np_canvas)\n",
        "show_t(np_canvas)"
      ],
      "execution_count": null,
      "outputs": [
        {
          "output_type": "display_data",
          "data": {
            "image/png": "[encoded data removed]",
            "text/plain": [
              "<Figure size 432x288 with 1 Axes>"
            ]
          },
          "metadata": {
            "tags": [],
            "needs_background": "light"
          }
        }
      ]
    },
    {
      "cell_type": "code",
      "metadata": {
        "id": "RHi-Ae_ETj6N",
        "colab_type": "code",
        "colab": {}
      },
      "source": [
        ""
      ],
      "execution_count": null,
      "outputs": []
    },
    {
      "cell_type": "code",
      "metadata": {
        "id": "jBYxBz_oIk7k",
        "colab_type": "code",
        "colab": {}
      },
      "source": [
        "import tensorcanvas as tc\n",
        "import torch\n",
        "import tensorflow as tf\n",
        "import jax.numpy as jnp\n",
        "import numpy as np\n",
        "\n",
        "# define 3 cirlces with different positions, radii, and colors\n",
        "x1, y1, r1, c1 = 34.8,  5.3, 2.0, [0.3, 0.2, 1.0]\n",
        "x2, y2, r2, c2 = 14.8, 15.3, 5.0, [0.1, 0.9, 0.8]\n",
        "x3, y3, r3, c3 = 30.8, 20.3, 3.0, [0.0, 0.9, 0.0]\n",
        "\n",
        "# canvas dimensions\n",
        "height, width, channels = 32, 64, 3\n",
        "\n",
        "# draw 3 colored circles on a pytorch image tensor\n",
        "pt_canvas = torch.zeros(channels, height, width)\n",
        "pt_canvas = tc.draw_circle(x1, y1, r1, torch.tensor(c1), pt_canvas)\n",
        "pt_canvas = tc.draw_circle(x2, y2, r2, torch.tensor(c2), pt_canvas)\n",
        "pt_canvas = tc.draw_circle(x3, y3, r3, torch.tensor(c3), pt_canvas)\n",
        "\n",
        "# draw 3 colored cirlces on a tensorflow image tensor\n",
        "tf_canvas = tf.zeros([height, width, channels])\n",
        "tf_canvas = tc.draw_circle(x1, y1, r1, tf.convert_to_tensor(c1), tf_canvas)\n",
        "tf_canvas = tc.draw_circle(x2, y2, r2, tf.convert_to_tensor(c2), tf_canvas)\n",
        "tf_canvas = tc.draw_circle(x3, y3, r3, tf.convert_to_tensor(c3), tf_canvas)\n",
        "\n",
        "# draw 3 colored cirlces on a jax image tensor\n",
        "jx_canvas = jnp.zeros([height, width, channels])\n",
        "jx_canvas = tc.draw_circle(x1, y1, r1, jnp.array(c1), jx_canvas)\n",
        "jx_canvas = tc.draw_circle(x2, y2, r2, jnp.array(c2), jx_canvas)\n",
        "jx_canvas = tc.draw_circle(x3, y3, r3, jnp.array(c3), jx_canvas)\n",
        "\n",
        "# draw 3 colored cirlces on a numpy image tensor\n",
        "np_canvas = np.zeros([height, width, channels])\n",
        "np_canvas = tc.draw_circle(x1, y1, r1, np.array(c1), np_canvas)\n",
        "np_canvas = tc.draw_circle(x2, y2, r2, np.array(c2), np_canvas)\n",
        "np_canvas = tc.draw_circle(x3, y3, r3, np.array(c3), np_canvas)\n",
        "\n",
        "# check results are indentical\n",
        "assert(np.allclose(np_canvas, pt_canvas.permute(1,2,0), atol=1e-6))\n",
        "assert(np.allclose(np_canvas, tf_canvas, atol=1e-6))\n",
        "assert(np.allclose(np_canvas, jx_canvas, atol=1e-6))\n"
      ],
      "execution_count": null,
      "outputs": []
    },
    {
      "cell_type": "code",
      "metadata": {
        "id": "-5jaqfkmUbee",
        "colab_type": "code",
        "colab": {}
      },
      "source": [
        ""
      ],
      "execution_count": null,
      "outputs": []
    }
  ]
}